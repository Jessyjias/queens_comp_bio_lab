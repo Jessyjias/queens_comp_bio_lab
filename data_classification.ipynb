{
 "cells": [
  {
   "cell_type": "markdown",
   "id": "da3b9957",
   "metadata": {},
   "source": [
    "# Driver Classification with Mutational Signature Exposure\n",
    "- UECE group 1 sample (356 sample, 311 no mutations, 45 with driver mutations) used for classifier training and cross-validation. "
   ]
  },
  {
   "cell_type": "code",
   "execution_count": 1,
   "metadata": {},
   "outputs": [],
   "source": [
    "# Import required libraries\n",
    "import numpy as np\n",
    "import pandas as pd\n",
    "import matplotlib.pyplot as plt\n",
    "import seaborn as sns\n",
    "%matplotlib inline\n",
    "import sklearn"
   ]
  },
  {
   "cell_type": "code",
   "execution_count": 2,
   "metadata": {},
   "outputs": [],
   "source": [
    "# Import required libraries for performance metrics\n",
    "from sklearn.metrics import make_scorer\n",
    "from sklearn.metrics import accuracy_score\n",
    "from sklearn.metrics import precision_score\n",
    "from sklearn.metrics import recall_score\n",
    "from sklearn.metrics import f1_score\n",
    "from sklearn.model_selection import cross_validate\n",
    "from sklearn.metrics import matthews_corrcoef\n",
    "from sklearn.metrics import roc_auc_score\n",
    "from sklearn.metrics import confusion_matrix"
   ]
  },
  {
   "cell_type": "code",
   "execution_count": 3,
   "metadata": {},
   "outputs": [],
   "source": [
    "# Import required libraries for machine learning classifiers\n",
    "from sklearn.linear_model import LogisticRegression\n",
    "from sklearn import linear_model #LinearRegression()\n",
    "from sklearn.svm import LinearSVC\n",
    "from sklearn.svm import SVR\n",
    "from sklearn import svm\n",
    "from sklearn.svm import SVC\n",
    "from sklearn.tree import DecisionTreeClassifier\n",
    "from sklearn.tree import DecisionTreeRegressor\n",
    "from sklearn.ensemble import RandomForestClassifier\n",
    "from sklearn.naive_bayes import GaussianNB\n",
    "from sklearn.neighbors import KNeighborsClassifier\n",
    "from sklearn.discriminant_analysis import LinearDiscriminantAnalysis"
   ]
  },
  {
   "cell_type": "code",
   "execution_count": 4,
   "metadata": {},
   "outputs": [],
   "source": [
    "# Define dictionary with performance metrics\n",
    "\n",
    "scoring = {'accuracy':make_scorer(accuracy_score), \n",
    "          'precision':make_scorer(precision_score),\n",
    "          'recall':make_scorer(recall_score),\n",
    "          'f1_score':make_scorer(f1_score),\n",
    "           'MCC': make_scorer(matthews_corrcoef)}"
   ]
  },
  {
   "cell_type": "code",
   "execution_count": 14,
   "metadata": {},
   "outputs": [],
   "source": [
    "# construct classifiers\n",
    "\n",
    "log_model = LogisticRegression()\n",
    "lda_model = LinearDiscriminantAnalysis()\n",
    "svc_lin_model = LinearSVC(dual=False)\n",
    "svc_model = SVC() #without using gamma='auto\n",
    "knn_model = KNeighborsClassifier()\n",
    "dtr_model = DecisionTreeClassifier()\n",
    "rfc_model = RandomForestClassifier()\n",
    "gnb_model = GaussianNB()"
   ]
  },
  {
   "cell_type": "code",
   "execution_count": 5,
   "metadata": {},
   "outputs": [],
   "source": [
    "# Define the models evaluation function\n",
    "\n",
    "def models_cross_validation(X, y, folds):\n",
    "    # X = dataset of features\n",
    "    # y = target dataset\n",
    "    # folds = number of folds for cross-validation\n",
    "\n",
    "    log = cross_validate(log_model, X, y, cv=folds, scoring=scoring)\n",
    "    lda = cross_validate(lda_model, X, y, cv=folds, scoring=scoring)\n",
    "    \n",
    "    svc_lin = cross_validate(svc_lin_model, X, y, cv=folds, scoring=scoring)\n",
    "    svc = cross_validate(svc_model, X, y, cv=folds, scoring=scoring)\n",
    "    \n",
    "    # svr_rbf = cross_validate(svr_rbf_model, X, y, cv=folds, scoring=scoring)\n",
    "    # svr_lin = cross_validate(svr_lin_model, X, y, cv=folds, scoring=scoring)\n",
    "    # svr_poly = cross_validate(svr_poly_model, X, y, cv=folds, scoring=scoring)\n",
    "    \n",
    "    knn = cross_validate(knn_model, X, y, cv=folds, scoring=scoring)\n",
    "    dtr = cross_validate(dtr_model, X, y, cv=folds, scoring=scoring)\n",
    "    rfc = cross_validate(rfc_model, X, y, cv=folds, scoring=scoring)\n",
    "    gnb = cross_validate(gnb_model, X, y, cv=folds, scoring=scoring)\n",
    "    \n",
    "    # Create a data frame with the models perfoamnce metrics scores\n",
    "    \n",
    "    models_scores_table = pd.DataFrame({'Logistic Regression':[log['test_accuracy'].mean(),\n",
    "                                                               log['test_precision'].mean(),\n",
    "                                                               log['test_recall'].mean(),\n",
    "                                                               log['test_f1_score'].mean(),\n",
    "                                                               log['test_MCC'].mean()],\n",
    "                                       \n",
    "                                        'Linear Discriminant':[lda['test_accuracy'].mean(),\n",
    "                                                               lda['test_precision'].mean(),\n",
    "                                                               lda['test_recall'].mean(),\n",
    "                                                               lda['test_f1_score'].mean(),\n",
    "                                                               lda['test_MCC'].mean()],\n",
    "\n",
    "                                        'Support Vector Classifier (LinearSVC)':[svc_lin['test_accuracy'].mean(),\n",
    "                                                                                 svc_lin['test_precision'].mean(),\n",
    "                                                                                 svc_lin['test_recall'].mean(),\n",
    "                                                                                 svc_lin['test_f1_score'].mean(),\n",
    "                                                                                 svc_lin['test_MCC'].mean()],\n",
    "               \n",
    "                                        'Support Vector Classifier':[svc['test_accuracy'].mean(),\n",
    "                                                                     svc['test_precision'].mean(),\n",
    "                                                                     svc['test_recall'].mean(),\n",
    "                                                                     svc['test_f1_score'].mean(),\n",
    "                                                                     svc['test_MCC'].mean()],\n",
    "\n",
    "                                        'KNeighbors Classifier':[knn['test_accuracy'].mean(),\n",
    "                                                                 knn['test_precision'].mean(),\n",
    "                                                                 knn['test_recall'].mean(),\n",
    "                                                                 knn['test_f1_score'].mean(),\n",
    "                                                                 knn['test_MCC'].mean()],\n",
    "                                        \n",
    "                                        'Decision Tree':[dtr['test_accuracy'].mean(),\n",
    "                                                         dtr['test_precision'].mean(),\n",
    "                                                         dtr['test_recall'].mean(),\n",
    "                                                         dtr['test_f1_score'].mean(),\n",
    "                                                         dtr['test_MCC'].mean()],\n",
    "                                       \n",
    "                                      'Random Forest':[rfc['test_accuracy'].mean(),\n",
    "                                                       rfc['test_precision'].mean(),\n",
    "                                                       rfc['test_recall'].mean(),\n",
    "                                                       rfc['test_f1_score'].mean(),\n",
    "                                                       rfc['test_MCC'].mean()],\n",
    "                                       \n",
    "                                      'Gaussian Naive Bayes':[gnb['test_accuracy'].mean(),\n",
    "                                                              gnb['test_precision'].mean(),\n",
    "                                                              gnb['test_recall'].mean(),\n",
    "                                                              gnb['test_f1_score'].mean(),\n",
    "                                                              gnb['test_MCC'].mean()]},\n",
    "                                       \n",
    "                                       index = ['Accuracy', 'Precision', 'Recall', 'F1 Score', 'MCC'])\n",
    "    # Add 'Best Score' column\n",
    "    models_scores_table['Best Score'] = models_scores_table.idxmax(axis=1)\n",
    "\n",
    "    return models_scores_table"
   ]
  },
  {
   "cell_type": "code",
   "execution_count": 6,
   "metadata": {},
   "outputs": [],
   "source": [
    "def calculate_zeros(file):\n",
    "    \n",
    "    bases_mutated_motif = (file[file['bases_mutated_in_motif'] == 0].groupby('motif')['bases_mutated_in_motif'].count() / file.groupby('motif')['bases_mutated_in_motif'].count()).reset_index()\n",
    "    bases_not_mutated_motif = (file[file['bases_not_mutated_in_motif'] == 0].groupby('motif')['bases_not_mutated_in_motif'].count() / file.groupby('motif')['bases_not_mutated_in_motif'].count()).reset_index()\n",
    "    merged = bases_mutated_motif.merge(bases_not_mutated_motif, 'left', on = 'motif')\n",
    "\n",
    "    return merged"
   ]
  },
  {
   "cell_type": "code",
   "execution_count": 8,
   "id": "0dbdcdd3",
   "metadata": {},
   "outputs": [],
   "source": [
    "# data = pd.read_csv('../ucec_classification.csv')\n",
    "data = pd.read_csv(\"../scripts/classification_g1_sig.csv\")"
   ]
  },
  {
   "cell_type": "code",
   "execution_count": 9,
   "id": "81f0fa2a",
   "metadata": {},
   "outputs": [],
   "source": [
    "sig_cols = [col for col in data if col.startswith('COSMICv3')]"
   ]
  },
  {
   "cell_type": "markdown",
   "id": "1d80c64f",
   "metadata": {},
   "source": [
    "## Selected feature data"
   ]
  },
  {
   "cell_type": "code",
   "execution_count": 10,
   "id": "2f692780",
   "metadata": {},
   "outputs": [
    {
     "data": {
      "text/plain": [
       "array(['No mutation', 'Driver'], dtype=object)"
      ]
     },
     "execution_count": 10,
     "metadata": {},
     "output_type": "execute_result"
    }
   ],
   "source": [
    "data['ExpPOLEDriverLabel'].unique()"
   ]
  },
  {
   "cell_type": "code",
   "execution_count": 18,
   "id": "2d4e43d1",
   "metadata": {},
   "outputs": [
    {
     "data": {
      "text/plain": [
       "356"
      ]
     },
     "execution_count": 18,
     "metadata": {},
     "output_type": "execute_result"
    }
   ],
   "source": [
    "data['Tumor_Sample_Barcode'].unique().size"
   ]
  },
  {
   "cell_type": "code",
   "execution_count": 11,
   "id": "1951ce64",
   "metadata": {},
   "outputs": [],
   "source": [
    "# Add a column for binary driver vs. no mutation \n",
    "# data['POLEDriverMSIStatus'].replace(['D0ML', 'D0M2', 'D1ML', 'D1M2', 'D2ML', 'D2M2'], [0,1,2,3,4,5], inplace=True)\n",
    "# data['POLEDriverMSIStatus'].replace([0,1,2,3,4,5], [0, 0, 0, 0, 1, 1], inplace=True)\n",
    "data['ExpPOLEDriverLabel'].replace(['Driver', 'No mutation'], [1, 0], inplace=True)"
   ]
  },
  {
   "cell_type": "code",
   "execution_count": 12,
   "metadata": {},
   "outputs": [],
   "source": [
    "sig_cols = [col for col in data if col.startswith('COSMICv3')]\n",
    "X = data[sig_cols].fillna(0) ## replace NaN with 0\n",
    "y = data['ExpPOLEDriverLabel']"
   ]
  },
  {
   "cell_type": "code",
   "execution_count": 16,
   "metadata": {},
   "outputs": [
    {
     "data": {
      "text/html": [
       "<div>\n",
       "<style scoped>\n",
       "    .dataframe tbody tr th:only-of-type {\n",
       "        vertical-align: middle;\n",
       "    }\n",
       "\n",
       "    .dataframe tbody tr th {\n",
       "        vertical-align: top;\n",
       "    }\n",
       "\n",
       "    .dataframe thead th {\n",
       "        text-align: right;\n",
       "    }\n",
       "</style>\n",
       "<table border=\"1\" class=\"dataframe\">\n",
       "  <thead>\n",
       "    <tr style=\"text-align: right;\">\n",
       "      <th></th>\n",
       "      <th>Logistic Regression</th>\n",
       "      <th>Linear Discriminant</th>\n",
       "      <th>Support Vector Classifier (LinearSVC)</th>\n",
       "      <th>Support Vector Classifier</th>\n",
       "      <th>KNeighbors Classifier</th>\n",
       "      <th>Decision Tree</th>\n",
       "      <th>Random Forest</th>\n",
       "      <th>Gaussian Naive Bayes</th>\n",
       "      <th>Best Score</th>\n",
       "    </tr>\n",
       "  </thead>\n",
       "  <tbody>\n",
       "    <tr>\n",
       "      <th>Accuracy</th>\n",
       "      <td>0.955086</td>\n",
       "      <td>0.988732</td>\n",
       "      <td>0.983099</td>\n",
       "      <td>0.988732</td>\n",
       "      <td>0.985915</td>\n",
       "      <td>0.985955</td>\n",
       "      <td>0.985994</td>\n",
       "      <td>0.966354</td>\n",
       "      <td>Linear Discriminant</td>\n",
       "    </tr>\n",
       "    <tr>\n",
       "      <th>Precision</th>\n",
       "      <td>1.000000</td>\n",
       "      <td>1.000000</td>\n",
       "      <td>0.975000</td>\n",
       "      <td>1.000000</td>\n",
       "      <td>0.977778</td>\n",
       "      <td>0.957778</td>\n",
       "      <td>1.000000</td>\n",
       "      <td>0.977778</td>\n",
       "      <td>Logistic Regression</td>\n",
       "    </tr>\n",
       "    <tr>\n",
       "      <th>Recall</th>\n",
       "      <td>0.644444</td>\n",
       "      <td>0.911111</td>\n",
       "      <td>0.888889</td>\n",
       "      <td>0.911111</td>\n",
       "      <td>0.911111</td>\n",
       "      <td>0.933333</td>\n",
       "      <td>0.888889</td>\n",
       "      <td>0.755556</td>\n",
       "      <td>Decision Tree</td>\n",
       "    </tr>\n",
       "    <tr>\n",
       "      <th>F1 Score</th>\n",
       "      <td>0.782857</td>\n",
       "      <td>0.952941</td>\n",
       "      <td>0.929412</td>\n",
       "      <td>0.952941</td>\n",
       "      <td>0.942484</td>\n",
       "      <td>0.943722</td>\n",
       "      <td>0.938235</td>\n",
       "      <td>0.838492</td>\n",
       "      <td>Linear Discriminant</td>\n",
       "    </tr>\n",
       "    <tr>\n",
       "      <th>MCC</th>\n",
       "      <td>0.782498</td>\n",
       "      <td>0.948237</td>\n",
       "      <td>0.921461</td>\n",
       "      <td>0.948237</td>\n",
       "      <td>0.935730</td>\n",
       "      <td>0.936895</td>\n",
       "      <td>0.934313</td>\n",
       "      <td>0.837194</td>\n",
       "      <td>Linear Discriminant</td>\n",
       "    </tr>\n",
       "  </tbody>\n",
       "</table>\n",
       "</div>"
      ],
      "text/plain": [
       "           Logistic Regression  Linear Discriminant  \\\n",
       "Accuracy              0.955086             0.988732   \n",
       "Precision             1.000000             1.000000   \n",
       "Recall                0.644444             0.911111   \n",
       "F1 Score              0.782857             0.952941   \n",
       "MCC                   0.782498             0.948237   \n",
       "\n",
       "           Support Vector Classifier (LinearSVC)  Support Vector Classifier  \\\n",
       "Accuracy                                0.983099                   0.988732   \n",
       "Precision                               0.975000                   1.000000   \n",
       "Recall                                  0.888889                   0.911111   \n",
       "F1 Score                                0.929412                   0.952941   \n",
       "MCC                                     0.921461                   0.948237   \n",
       "\n",
       "           KNeighbors Classifier  Decision Tree  Random Forest  \\\n",
       "Accuracy                0.985915       0.985955       0.985994   \n",
       "Precision               0.977778       0.957778       1.000000   \n",
       "Recall                  0.911111       0.933333       0.888889   \n",
       "F1 Score                0.942484       0.943722       0.938235   \n",
       "MCC                     0.935730       0.936895       0.934313   \n",
       "\n",
       "           Gaussian Naive Bayes           Best Score  \n",
       "Accuracy               0.966354  Linear Discriminant  \n",
       "Precision              0.977778  Logistic Regression  \n",
       "Recall                 0.755556        Decision Tree  \n",
       "F1 Score               0.838492  Linear Discriminant  \n",
       "MCC                    0.837194  Linear Discriminant  "
      ]
     },
     "execution_count": 16,
     "metadata": {},
     "output_type": "execute_result"
    }
   ],
   "source": [
    "models_cross_validation(X, y, 5)"
   ]
  },
  {
   "cell_type": "markdown",
   "id": "304a83d0",
   "metadata": {},
   "source": [
    "## Predict driver status on non-driver with best performing classifier"
   ]
  },
  {
   "cell_type": "code",
   "execution_count": 19,
   "id": "c6897290",
   "metadata": {},
   "outputs": [],
   "source": [
    "## Support Vector Classifier (nonlinear) and Linear discriminant performs the same, choosing SVC for now for predicting the non drivers\n",
    "\n",
    "svc = cross_validate(svc_model, X, y, cv=5, scoring=scoring)"
   ]
  },
  {
   "cell_type": "code",
   "execution_count": 21,
   "id": "5522aa5a",
   "metadata": {},
   "outputs": [],
   "source": [
    "data_nondriver = pd.read_csv(\"../scripts/classification_g1_nondriver_sig.csv\")"
   ]
  },
  {
   "cell_type": "code",
   "execution_count": 22,
   "id": "9d23d882",
   "metadata": {},
   "outputs": [],
   "source": [
    "X_test = data_nondriver[sig_cols].fillna(0)\n",
    "y_test = data_nondriver['ExpPOLEDriverLabel']"
   ]
  },
  {
   "cell_type": "code",
   "execution_count": 23,
   "id": "46a8558c",
   "metadata": {},
   "outputs": [
    {
     "data": {
      "text/plain": [
       "SVC()"
      ]
     },
     "execution_count": 23,
     "metadata": {},
     "output_type": "execute_result"
    }
   ],
   "source": [
    "svc_model.fit(X, y)"
   ]
  },
  {
   "cell_type": "code",
   "execution_count": 24,
   "id": "8054d74c",
   "metadata": {},
   "outputs": [],
   "source": [
    "y_pred = svc_model.predict(X_test)"
   ]
  },
  {
   "cell_type": "code",
   "execution_count": 25,
   "id": "c6a9c7dd",
   "metadata": {},
   "outputs": [
    {
     "data": {
      "text/plain": [
       "array([0, 0, 0, 0, 0, 0, 0, 0, 0, 1, 0, 1, 0, 0, 1, 0, 0, 1, 0, 0, 0, 0,\n",
       "       0, 0, 0, 0, 0, 0, 0, 0, 0, 0, 0, 0])"
      ]
     },
     "execution_count": 25,
     "metadata": {},
     "output_type": "execute_result"
    }
   ],
   "source": [
    "y_pred"
   ]
  },
  {
   "cell_type": "code",
   "execution_count": 26,
   "id": "0c7af857",
   "metadata": {},
   "outputs": [
    {
     "data": {
      "text/plain": [
       "array(['TCGA-AX-A0J1-01A-11W-A062-09', 'TCGA-AX-A1CE-01A-11D-A135-09',\n",
       "       'TCGA-AX-A2HD-01A-21D-A17D-09', 'TCGA-B5-A1MR-01A-31D-A14G-09'],\n",
       "      dtype=object)"
      ]
     },
     "execution_count": 26,
     "metadata": {},
     "output_type": "execute_result"
    }
   ],
   "source": [
    "# get nondriver samples with prediction = driver \n",
    "data_nondriver.loc[y_pred==1].Tumor_Sample_Barcode.to_numpy()"
   ]
  },
  {
   "cell_type": "code",
   "execution_count": 27,
   "id": "c1027b59",
   "metadata": {},
   "outputs": [
    {
     "data": {
      "text/plain": [
       "array(['TCGA-A5-A0GB-01A-11W-A062-09', 'TCGA-A5-A0VP-01A-21D-A10B-09',\n",
       "       'TCGA-A5-A2K7-01A-11D-A17W-09', 'TCGA-A5-A7WJ-01A-12D-A34Q-09',\n",
       "       'TCGA-A5-AB3J-01A-11D-A403-09', 'TCGA-AJ-A3BH-01A-11D-A19Y-09',\n",
       "       'TCGA-AP-A054-01A-11W-A062-09', 'TCGA-AP-A1DK-01A-11D-A135-09',\n",
       "       'TCGA-AP-A1DM-01A-21D-A135-09', 'TCGA-AX-A1C9-01A-11D-A135-09',\n",
       "       'TCGA-AX-A1CF-01A-11D-A135-09', 'TCGA-AX-A2HA-01A-12D-A18P-09',\n",
       "       'TCGA-B5-A11H-01A-11D-A122-09', 'TCGA-B5-A11Y-01A-21D-A10M-09',\n",
       "       'TCGA-B5-A1MX-01A-11D-A142-09', 'TCGA-B5-A5OC-01A-21D-A27P-09',\n",
       "       'TCGA-BG-A0LX-01A-11W-A062-09', 'TCGA-BG-A18A-01A-21D-A12J-09',\n",
       "       'TCGA-BG-A221-01A-21D-A159-09', 'TCGA-BG-A222-01A-11D-A159-09',\n",
       "       'TCGA-BG-A2L7-01A-11D-A18P-09', 'TCGA-BS-A0UM-01A-11W-A10C-09',\n",
       "       'TCGA-D1-A167-01A-11D-A12J-09', 'TCGA-D1-A16N-01A-11D-A12J-09',\n",
       "       'TCGA-D1-A17F-01A-11D-A12J-09', 'TCGA-DF-A2KN-01A-11D-A17W-09',\n",
       "       'TCGA-E6-A2P9-01A-11D-A19Y-09', 'TCGA-EY-A1GK-01A-11D-A13L-09',\n",
       "       'TCGA-FI-A2F4-01A-11D-A17D-09', 'TCGA-SJ-A6ZI-01A-12D-A34Q-09'],\n",
       "      dtype=object)"
      ]
     },
     "execution_count": 27,
     "metadata": {},
     "output_type": "execute_result"
    }
   ],
   "source": [
    "# get nondriver samples with prediction = no mutations \n",
    "data_nondriver.loc[y_pred==0].Tumor_Sample_Barcode.to_numpy()"
   ]
  }
 ],
 "metadata": {
  "interpreter": {
   "hash": "27f21f86f3729e44bcd97c645d0a96d83a63fe9006e6e7bacd1c54d52f952842"
  },
  "kernelspec": {
   "display_name": "Python 3.10.2 ('env_mutagene')",
   "language": "python",
   "name": "python3"
  },
  "language_info": {
   "codemirror_mode": {
    "name": "ipython",
    "version": 3
   },
   "file_extension": ".py",
   "mimetype": "text/x-python",
   "name": "python",
   "nbconvert_exporter": "python",
   "pygments_lexer": "ipython3",
   "version": "3.10.2"
  }
 },
 "nbformat": 4,
 "nbformat_minor": 5
}
